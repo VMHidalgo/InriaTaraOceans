{
 "cells": [
  {
   "cell_type": "code",
   "execution_count": 5,
   "metadata": {},
   "outputs": [],
   "source": [
    "import tensorflow as tf\n",
    "import keras as kr\n",
    "from keras import layers\n",
    "from keras import regularizers\n",
    "import keras_tuner\n",
    "\n",
    "import pandas as pd\n",
    "import numpy as np\n",
    "import matplotlib.pyplot as plt"
   ]
  },
  {
   "attachments": {},
   "cell_type": "markdown",
   "metadata": {},
   "source": [
    "# Load the dataset"
   ]
  },
  {
   "cell_type": "code",
   "execution_count": 6,
   "metadata": {},
   "outputs": [
    {
     "name": "stdout",
     "output_type": "stream",
     "text": [
      "(173, 3202)\n",
      "3202\n"
     ]
    }
   ],
   "source": [
    "\n",
    "df = pd.read_csv(\"/home/vmh/vmhdocs/Research/Inria/Anl/MotifsDataAutoencoder/Data/3_46cols_EnvFeatures173samples_plus_3202EC_V2_original.csv\",sep=\",\")\n",
    "\n",
    "df2 = df.iloc[:,46-len(df.columns):]\n",
    "#print(df2.head(3))\n",
    "\n",
    "train_data = np.array(df2)\n",
    "print(train_data.shape)\n",
    "\n",
    "inputlen = len(df2.columns)\n",
    "print(inputlen)\n"
   ]
  },
  {
   "attachments": {},
   "cell_type": "markdown",
   "metadata": {},
   "source": [
    "# Define model and hyperparameters to be tuned"
   ]
  },
  {
   "cell_type": "code",
   "execution_count": 7,
   "metadata": {},
   "outputs": [
    {
     "data": {
      "text/plain": [
       "<keras.engine.functional.Functional at 0x7fbcdf860b20>"
      ]
     },
     "execution_count": 7,
     "metadata": {},
     "output_type": "execute_result"
    }
   ],
   "source": [
    "def autoencoder(units, lr):\n",
    "    inputlen = 3202\n",
    "    encoding_dim = 3\n",
    "    # This is my model\n",
    "    model = kr.Sequential()\n",
    "    model.add(kr.Input(shape=(inputlen,)))\n",
    "    model.add(layers.Dense(units=units*2, activation='relu'))\n",
    "    model.add(layers.BatchNormalization())\n",
    "    model.add(layers.Dense(units=units, activation='relu'))\n",
    "    model.add(layers.BatchNormalization())\n",
    "    model.add(layers.Dense(encoding_dim, activation='relu'))\n",
    "    model.add(layers.BatchNormalization())\n",
    "    model.add(layers.Dense(units=units, activation='relu'))\n",
    "    model.add(layers.BatchNormalization())\n",
    "    model.add(layers.Dense(units=units*2, activation='relu'))\n",
    "    model.add(layers.BatchNormalization())\n",
    "    model.add(layers.Dense(inputlen, activation='linear'))\n",
    "    \n",
    "   # This model maps an input to its reconstruction\n",
    "    autoencoder = kr.Model(model.input, model.output)\n",
    "    opt = kr.optimizers.Adam(learning_rate=lr)\n",
    "    autoencoder.compile(optimizer=opt, loss='mse',metrics=[\"mean_squared_error\"])\n",
    "    return autoencoder\n",
    "\n",
    "def build_model(hp):\n",
    "    units = hp.Int(\"units\", min_value=100, max_value=1000, sampling=\"log\")\n",
    "    lr = hp.Float(\"lr\",min_value=1e-4, max_value=1e-2, sampling=\"log\")\n",
    "    model = autoencoder(units,lr)\n",
    "    return model\n",
    "\n",
    "build_model( keras_tuner.HyperParameters())"
   ]
  },
  {
   "attachments": {},
   "cell_type": "markdown",
   "metadata": {},
   "source": [
    "# Search the best model"
   ]
  },
  {
   "cell_type": "code",
   "execution_count": 8,
   "metadata": {},
   "outputs": [
    {
     "name": "stdout",
     "output_type": "stream",
     "text": [
      "Trial 10 Complete [00h 00m 42s]\n",
      "mean_squared_error: 0.0048256573888162775\n",
      "\n",
      "Best mean_squared_error So Far: 0.0012419759295880795\n",
      "Total elapsed time: 00h 03m 03s\n",
      "INFO:tensorflow:Oracle triggered exit\n"
     ]
    }
   ],
   "source": [
    "tuner = keras_tuner.RandomSearch(\n",
    "    hypermodel=build_model,\n",
    "    objective=\"mean_squared_error\",\n",
    "    max_trials=10,\n",
    "    executions_per_trial=3,\n",
    "    seed = 333,\n",
    "    overwrite=True,\n",
    "    directory=\"/home/vmh/vmhdocs/Research/Inria/Anl/MotifsDataAutoencoder/Code/autoenc001\",\n",
    "    project_name=\"tuner\",\n",
    ")\n",
    "\n",
    "\n",
    "tuner.search_space_summary()\n",
    "tb = kr.callbacks.TensorBoard(log_dir=\"./tuner_tb\", write_images=True,update_freq=\"epoch\")\n",
    "tuner.search(train_data, train_data, epochs=20,callbacks=[tb])"
   ]
  },
  {
   "attachments": {},
   "cell_type": "markdown",
   "metadata": {},
   "source": [
    "# Save the best model"
   ]
  },
  {
   "cell_type": "code",
   "execution_count": 9,
   "metadata": {},
   "outputs": [
    {
     "name": "stdout",
     "output_type": "stream",
     "text": [
      "Model: \"model\"\n",
      "_________________________________________________________________\n",
      " Layer (type)                Output Shape              Param #   \n",
      "=================================================================\n",
      " input_1 (InputLayer)        [(None, 3202)]            0         \n",
      "                                                                 \n",
      " dense (Dense)               (None, 448)               1434944   \n",
      "                                                                 \n",
      " batch_normalization (BatchN  (None, 448)              1792      \n",
      " ormalization)                                                   \n",
      "                                                                 \n",
      " dense_1 (Dense)             (None, 224)               100576    \n",
      "                                                                 \n",
      " batch_normalization_1 (Batc  (None, 224)              896       \n",
      " hNormalization)                                                 \n",
      "                                                                 \n",
      " dense_2 (Dense)             (None, 3)                 675       \n",
      "                                                                 \n",
      " batch_normalization_2 (Batc  (None, 3)                12        \n",
      " hNormalization)                                                 \n",
      "                                                                 \n",
      " dense_3 (Dense)             (None, 224)               896       \n",
      "                                                                 \n",
      " batch_normalization_3 (Batc  (None, 224)              896       \n",
      " hNormalization)                                                 \n",
      "                                                                 \n",
      " dense_4 (Dense)             (None, 448)               100800    \n",
      "                                                                 \n",
      " batch_normalization_4 (Batc  (None, 448)              1792      \n",
      " hNormalization)                                                 \n",
      "                                                                 \n",
      " dense_5 (Dense)             (None, 3202)              1437698   \n",
      "                                                                 \n",
      "=================================================================\n",
      "Total params: 3,080,977\n",
      "Trainable params: 3,078,283\n",
      "Non-trainable params: 2,694\n",
      "_________________________________________________________________\n"
     ]
    }
   ],
   "source": [
    "# Get best model.\n",
    "best_model = tuner.get_best_models(num_models=1)\n",
    "best_model = best_model[0]\n",
    "\n",
    "# Build the model.\n",
    "best_model.build(input_shape=(inputlen,))\n",
    "best_model.summary()\n",
    "\n",
    "best_hps = tuner.get_best_hyperparameters(1)\n",
    "best_hps = best_hps[0]\n",
    "# Build the model with the best hp.\n",
    "autoencoder = build_model(best_hps)\n",
    "autoencoder.save('./autoencoder_motifdata.h5')"
   ]
  }
 ],
 "metadata": {
  "kernelspec": {
   "display_name": "Python 3.10.6 64-bit",
   "language": "python",
   "name": "python3"
  },
  "language_info": {
   "codemirror_mode": {
    "name": "ipython",
    "version": 3
   },
   "file_extension": ".py",
   "mimetype": "text/x-python",
   "name": "python",
   "nbconvert_exporter": "python",
   "pygments_lexer": "ipython3",
   "version": "3.10.6 (main, Nov 14 2022, 16:10:14) [GCC 11.3.0]"
  },
  "orig_nbformat": 4,
  "vscode": {
   "interpreter": {
    "hash": "916dbcbb3f70747c44a77c7bcd40155683ae19c65e1c03b4aa3499c5328201f1"
   }
  }
 },
 "nbformat": 4,
 "nbformat_minor": 2
}
